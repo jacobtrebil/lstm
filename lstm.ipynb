{
 "cells": [
  {
   "cell_type": "code",
   "execution_count": 10,
   "metadata": {},
   "outputs": [],
   "source": [
    "import os\n",
    "import torch\n",
    "from torch import nn, optim\n",
    "from torch.utils.data import DataLoader\n",
    "from torchvision import datasets, transforms"
   ]
  },
  {
   "cell_type": "code",
   "execution_count": 24,
   "metadata": {},
   "outputs": [],
   "source": [
    "batchsize=100\n",
    "training_data = datasets.FashionMNIST(root=\"../fashion_mnist\", train=True, download=True, transform=transforms.ToTensor())\n",
    "test_data = datasets.FashionMNIST(root=\"../fashion_mnist\", train=False, download=True, transform=transforms.ToTensor())\n",
    "train_dataloader = DataLoader(training_data, batch_size=batchsize, shuffle=True)\n",
    "test_dataloader = DataLoader(test_data, batch_size=batchsize, shuffle=True)"
   ]
  },
  {
   "attachments": {},
   "cell_type": "markdown",
   "metadata": {},
   "source": [
    "# Define Hyperparameters"
   ]
  },
  {
   "cell_type": "code",
   "execution_count": 12,
   "metadata": {},
   "outputs": [],
   "source": [
    "sequence_len = 28\n",
    "input_size = 28\n",
    "hidden_size = 128\n",
    "num_layers = 2\n",
    "num_classes = 10\n",
    "num_epochs = 5\n",
    "learning_rate = 0.01"
   ]
  },
  {
   "cell_type": "code",
   "execution_count": 13,
   "metadata": {},
   "outputs": [],
   "source": [
    "class LSTM(nn.Module):\n",
    "    def __init__(self, input_len, hidden_size, num_class, num_layers):\n",
    "        super(LSTM, self).__init__()\n",
    "        self.hidden_size = hidden_size\n",
    "        self.num_layers = num_layers\n",
    "        self.lstm = nn.LSTM(input_len, hidden_size, num_layers, batch_first=True)\n",
    "        self.output_layer = nn.Linear(hidden_size, num_class)\n",
    "\n",
    "    def forward(self, X):\n",
    "        hidden_states = torch.zeros(self.num_layers, X.size(0), self.hidden_size)\n",
    "        cell_states = torch.zeros(self.num_layers, X.size(0), self.hidden_size)\n",
    "        out, _ = self.lstm(X, (hidden_states, cell_states))\n",
    "        out = self.output_layer(out[:, -1, :])\n",
    "        return out"
   ]
  },
  {
   "cell_type": "code",
   "execution_count": 14,
   "metadata": {},
   "outputs": [
    {
     "name": "stdout",
     "output_type": "stream",
     "text": [
      "LSTM(\n",
      "  (lstm): LSTM(28, 128, num_layers=2, batch_first=True)\n",
      "  (output_layer): Linear(in_features=128, out_features=10, bias=True)\n",
      ")\n"
     ]
    }
   ],
   "source": [
    "model = LSTM(input_size, hidden_size, num_classes, num_layers)\n",
    "print(model)"
   ]
  },
  {
   "cell_type": "code",
   "execution_count": 15,
   "metadata": {},
   "outputs": [],
   "source": [
    "loss_func = nn.CrossEntropyLoss()\n",
    "optimizer = optim.SGD(model.parameters(), lr=learning_rate)"
   ]
  },
  {
   "cell_type": "code",
   "execution_count": 22,
   "metadata": {},
   "outputs": [],
   "source": [
    "def train(num_epochs, model, train_dataloader, loss_func, optimizer):\n",
    "    total_steps = len(train_dataloader)\n",
    "    for epoch in range(num_epochs):\n",
    "        for batch, (images, labels) in enumerate(train_dataloader):\n",
    "            images = images.reshape(-1, sequence_len, input_size)\n",
    "\n",
    "            outputs = model(images)\n",
    "            loss = loss_func(outputs, labels)\n",
    "\n",
    "            optimizer.zero_grad()\n",
    "            loss.backward()\n",
    "            optimizer.step()\n",
    "\n",
    "            if (batch+1) % 100 == 0:\n",
    "                print(f\"Epoch: {epoch+1}; Batch {batch+1}; Loss: {loss.item():>4f}\")"
   ]
  },
  {
   "cell_type": "code",
   "execution_count": 23,
   "metadata": {},
   "outputs": [
    {
     "name": "stdout",
     "output_type": "stream",
     "text": [
      "Epoch: 1; Batch 100; Loss: 2.299914\n",
      "Epoch: 1; Batch 200; Loss: 2.299645\n",
      "Epoch: 1; Batch 300; Loss: 2.298419\n",
      "Epoch: 1; Batch 400; Loss: 2.294570\n",
      "Epoch: 1; Batch 500; Loss: 2.296913\n",
      "Epoch: 1; Batch 600; Loss: 2.292645\n",
      "Epoch: 2; Batch 100; Loss: 2.291686\n",
      "Epoch: 2; Batch 200; Loss: 2.292403\n",
      "Epoch: 2; Batch 300; Loss: 2.283821\n",
      "Epoch: 2; Batch 400; Loss: 2.283202\n",
      "Epoch: 2; Batch 500; Loss: 2.275430\n",
      "Epoch: 2; Batch 600; Loss: 2.273543\n",
      "Epoch: 3; Batch 100; Loss: 2.272033\n",
      "Epoch: 3; Batch 200; Loss: 2.265540\n",
      "Epoch: 3; Batch 300; Loss: 2.251768\n",
      "Epoch: 3; Batch 400; Loss: 2.257634\n",
      "Epoch: 3; Batch 500; Loss: 2.247160\n",
      "Epoch: 3; Batch 600; Loss: 2.233296\n",
      "Epoch: 4; Batch 100; Loss: 2.214099\n",
      "Epoch: 4; Batch 200; Loss: 2.199948\n",
      "Epoch: 4; Batch 300; Loss: 2.180619\n",
      "Epoch: 4; Batch 400; Loss: 2.149138\n",
      "Epoch: 4; Batch 500; Loss: 2.124537\n",
      "Epoch: 4; Batch 600; Loss: 2.064153\n",
      "Epoch: 5; Batch 100; Loss: 2.000690\n",
      "Epoch: 5; Batch 200; Loss: 1.888535\n",
      "Epoch: 5; Batch 300; Loss: 1.909998\n",
      "Epoch: 5; Batch 400; Loss: 1.772736\n",
      "Epoch: 5; Batch 500; Loss: 1.754221\n",
      "Epoch: 5; Batch 600; Loss: 1.586959\n"
     ]
    }
   ],
   "source": [
    "train(num_epochs, model, train_dataloader, loss_func, optimizer)"
   ]
  },
  {
   "cell_type": "code",
   "execution_count": 25,
   "metadata": {},
   "outputs": [
    {
     "data": {
      "text/plain": [
       "tensor([0, 8, 0, 4, 2, 5, 3, 7, 0, 8, 3, 7, 4, 3, 4, 6, 8, 1, 1, 0, 4, 3, 8, 0,\n",
       "        9, 3, 0, 6, 7, 9, 8, 5, 5, 3, 9, 6, 6, 4, 9, 1, 4, 1, 5, 4, 1, 6, 7, 3,\n",
       "        8, 0, 0, 4, 0, 5, 5, 7, 4, 5, 4, 6, 0, 2, 9, 3, 3, 8, 9, 6, 5, 1, 9, 3,\n",
       "        2, 2, 3, 8, 7, 3, 0, 2, 8, 3, 0, 0, 5, 5, 2, 7, 5, 1, 2, 6, 1, 2, 8, 9,\n",
       "        2, 5, 7, 8])"
      ]
     },
     "execution_count": 25,
     "metadata": {},
     "output_type": "execute_result"
    }
   ],
   "source": [
    "test_images, test_labels = next(iter(test_dataloader))\n",
    "test_labels"
   ]
  },
  {
   "cell_type": "code",
   "execution_count": 26,
   "metadata": {},
   "outputs": [],
   "source": [
    "test_outputs = model(test_images.view(-1, 28, 28))"
   ]
  },
  {
   "cell_type": "code",
   "execution_count": 29,
   "metadata": {},
   "outputs": [
    {
     "data": {
      "text/plain": [
       "tensor([3, 2, 3, 2, 2, 7, 3, 7, 4, 9, 3, 7, 7, 3, 2, 3, 7, 1, 1, 3, 2, 3, 9, 3,\n",
       "        9, 3, 3, 0, 7, 9, 7, 7, 9, 3, 2, 4, 4, 2, 9, 1, 4, 1, 7, 4, 1, 4, 7, 3,\n",
       "        7, 3, 3, 9, 3, 7, 9, 7, 9, 7, 2, 2, 4, 2, 9, 3, 3, 9, 9, 0, 7, 1, 9, 3,\n",
       "        9, 9, 1, 4, 5, 3, 4, 2, 2, 3, 3, 3, 9, 5, 2, 7, 7, 1, 3, 4, 1, 2, 2, 7,\n",
       "        9, 7, 7, 3])"
      ]
     },
     "execution_count": 29,
     "metadata": {},
     "output_type": "execute_result"
    }
   ],
   "source": [
    "predicted = torch.max(test_outputs, 1)[1]\n",
    "predicted"
   ]
  },
  {
   "cell_type": "code",
   "execution_count": 30,
   "metadata": {},
   "outputs": [],
   "source": [
    "correct = [1 for i in range(100) if predicted[i] == test_labels[i]]"
   ]
  },
  {
   "cell_type": "code",
   "execution_count": 32,
   "metadata": {},
   "outputs": [
    {
     "data": {
      "text/plain": [
       "0.41"
      ]
     },
     "execution_count": 32,
     "metadata": {},
     "output_type": "execute_result"
    }
   ],
   "source": [
    "precentage_correct = sum(correct)/100\n",
    "precentage_correct"
   ]
  }
 ],
 "metadata": {
  "kernelspec": {
   "display_name": "Python 3",
   "language": "python",
   "name": "python3"
  },
  "language_info": {
   "codemirror_mode": {
    "name": "ipython",
    "version": 3
   },
   "file_extension": ".py",
   "mimetype": "text/x-python",
   "name": "python",
   "nbconvert_exporter": "python",
   "pygments_lexer": "ipython3",
   "version": "3.11.5"
  },
  "orig_nbformat": 4
 },
 "nbformat": 4,
 "nbformat_minor": 2
}
